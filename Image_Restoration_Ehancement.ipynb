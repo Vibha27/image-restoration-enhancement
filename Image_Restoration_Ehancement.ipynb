{
  "nbformat": 4,
  "nbformat_minor": 0,
  "metadata": {
    "colab": {
      "name": "Image Restoration-Ehancement.ipynb",
      "provenance": [],
      "collapsed_sections": []
    },
    "kernelspec": {
      "name": "python3",
      "display_name": "Python 3"
    },
    "language_info": {
      "name": "python"
    }
  },
  "cells": [
    {
      "cell_type": "code",
      "metadata": {
        "id": "LcKSu7tGhHBt",
        "colab": {
          "base_uri": "https://localhost:8080/"
        },
        "outputId": "2da78f5b-045d-4ee0-bd7e-b07c36a105c3"
      },
      "source": [
        "!git clone https://github.com/Vibha27/image-restoration-enhancement.git"
      ],
      "execution_count": 2,
      "outputs": [
        {
          "output_type": "stream",
          "text": [
            "Cloning into 'image-restoration-enhancement'...\n",
            "remote: Enumerating objects: 54, done.\u001b[K\n",
            "remote: Counting objects: 100% (54/54), done.\u001b[K\n",
            "remote: Compressing objects: 100% (40/40), done.\u001b[K\n",
            "remote: Total 54 (delta 10), reused 54 (delta 10), pack-reused 0\u001b[K\n",
            "Unpacking objects: 100% (54/54), done.\n"
          ],
          "name": "stdout"
        }
      ]
    },
    {
      "cell_type": "code",
      "metadata": {
        "id": "gKvPlxqlRyu2",
        "colab": {
          "base_uri": "https://localhost:8080/"
        },
        "outputId": "76277782-76b3-4e16-a12e-205574c5a62d"
      },
      "source": [
        "import os, shutil\n",
        "dir = r\"/content/image-restoration-enhancement\"\n",
        "for folder in os.listdir(dir):\n",
        "    src = os.path.join(dir, folder)\n",
        "    if os.path.isdir(src):\n",
        "        shutil.copytree(src, f\"/content/{folder}\")\n",
        "\n",
        "!rm -r /content/static/uploads/*.jpg /content/static/uploads/*.png /content/static/uploads/*.jpeg"
      ],
      "execution_count": 28,
      "outputs": [
        {
          "output_type": "stream",
          "text": [
            "rm: cannot remove '/content/static/uploads/*.jpg': No such file or directory\n"
          ],
          "name": "stdout"
        }
      ]
    },
    {
      "cell_type": "code",
      "metadata": {
        "id": "J3IGV6GHQF5w",
        "colab": {
          "base_uri": "https://localhost:8080/"
        },
        "outputId": "8182680f-e672-4770-82ee-769c2ba5b55f"
      },
      "source": [
        " !pip install -qU flask-ngrok\n",
        "\n",
        "# esrgan_tf model\n",
        "# https://drive.google.com/file/d/14twK6Xm_yuL14eTjQbH3aynXDAXPbMLq/view?usp=sharing\n",
        "!gdown --id 14twK6Xm_yuL14eTjQbH3aynXDAXPbMLq\n",
        "!unzip -qq esrgan_tf.zip"
      ],
      "execution_count": 4,
      "outputs": [
        {
          "output_type": "stream",
          "text": [
            "Downloading...\n",
            "From: https://drive.google.com/uc?id=14twK6Xm_yuL14eTjQbH3aynXDAXPbMLq\n",
            "To: /content/esrgan_tf.zip\n",
            "17.4MB [00:00, 33.8MB/s]\n"
          ],
          "name": "stdout"
        }
      ]
    },
    {
      "cell_type": "code",
      "metadata": {
        "id": "Aev0TmlZnMK5",
        "colab": {
          "base_uri": "https://localhost:8080/"
        },
        "cellView": "form",
        "outputId": "c747f8ed-b8ec-4810-e154-fe31f1d1f40e"
      },
      "source": [
        "#@title Super_resolution module: Current Tensorflow\n",
        "from PIL import Image\n",
        "import numpy as np\n",
        "import tensorflow as tf\n",
        "\n",
        "# MODEL LOADS\n",
        "\n",
        "super_res_model = tf.keras.models.load_model(\"/content/content/super_model/esrgan\")\n",
        "super_res_model.compile=False\n",
        "\n",
        "\n",
        "\n",
        "# SUPER_RES PREPROCESSING TENSORFLOW\n",
        "\n",
        "def preprocess_image(lr_image):\n",
        "    if lr_image.shape[-1] == 4:\n",
        "        lr_image = lr_image[...,:-1]\n",
        "\n",
        "    lr_image = tf.cast(lr_image, tf.float32)\n",
        "\n",
        "    lr_image = tf.convert_to_tensor(\n",
        "        lr_image, dtype=None, dtype_hint=None, name=None\n",
        "    )\n",
        "    return tf.expand_dims(lr_image, 0)\n",
        "\n",
        "\n",
        "def save_image(image, filepath):\n",
        "    if not isinstance(image, Image.Image):\n",
        "        image = tf.clip_by_value(image, 0, 255)\n",
        "        image = Image.fromarray(tf.cast(image, tf.uint8).numpy())   \n",
        "        \n",
        "    image.save(filepath)\n",
        "\n",
        "\n",
        "def super_resolution_module(name, file_path, save_dir):\n",
        "    og_image = Image.open(file_path).convert(\"RGB\")\n",
        "    og_image = np.asarray(og_image)\n",
        "    image = preprocess_image(og_image) \n",
        "    fake_image = super_res_model(image)\n",
        "    fake_image = tf.squeeze(fake_image)\n",
        "    fake_image = tf.clip_by_value(fake_image, 0, 255)\n",
        "    fake_image = Image.fromarray(tf.cast(fake_image, tf.uint8).numpy()) \n",
        "    name = \"out_\"+name\n",
        "    save_path = os.path.join(save_dir, name)\n",
        "    save_image(fake_image, save_path)\n",
        "    return save_path\n",
        "\n",
        "# # TEST\n",
        "# super_resolution_module(\"000060.png\", r\"/content/000060.png\", r\"/content/static/OUTPUTS\")"
      ],
      "execution_count": 27,
      "outputs": [
        {
          "output_type": "stream",
          "text": [
            "WARNING:tensorflow:Unresolved object in checkpoint: (root).layer_with_weights-0._callable_losses\n",
            "WARNING:tensorflow:Unresolved object in checkpoint: (root).layer_with_weights-0.conv_first._callable_losses\n",
            "WARNING:tensorflow:Unresolved object in checkpoint: (root).layer_with_weights-0.rdb_trunk._callable_losses\n",
            "WARNING:tensorflow:Unresolved object in checkpoint: (root).layer_with_weights-0.conv_trunk._callable_losses\n",
            "WARNING:tensorflow:Unresolved object in checkpoint: (root).layer_with_weights-0.upsample1._callable_losses\n",
            "WARNING:tensorflow:Unresolved object in checkpoint: (root).layer_with_weights-0.upsample2._callable_losses\n",
            "WARNING:tensorflow:Unresolved object in checkpoint: (root).layer_with_weights-0.conv_last_1._callable_losses\n",
            "WARNING:tensorflow:Unresolved object in checkpoint: (root).layer_with_weights-0.conv_last_2._callable_losses\n",
            "WARNING:tensorflow:Unresolved object in checkpoint: (root).layer_with_weights-0.lrelu._callable_losses\n",
            "WARNING:tensorflow:Unresolved object in checkpoint: (root).layer_with_weights-0.rdb_trunk.layer-0._callable_losses\n",
            "WARNING:tensorflow:Unresolved object in checkpoint: (root).layer_with_weights-0.rdb_trunk.layer-1._callable_losses\n",
            "WARNING:tensorflow:Unresolved object in checkpoint: (root).layer_with_weights-0.rdb_trunk.layer-2._callable_losses\n",
            "WARNING:tensorflow:Unresolved object in checkpoint: (root).layer_with_weights-0.rdb_trunk.layer-3._callable_losses\n",
            "WARNING:tensorflow:Unresolved object in checkpoint: (root).layer_with_weights-0.rdb_trunk.layer-4._callable_losses\n",
            "WARNING:tensorflow:Unresolved object in checkpoint: (root).layer_with_weights-0.rdb_trunk.layer-5._callable_losses\n",
            "WARNING:tensorflow:Unresolved object in checkpoint: (root).layer_with_weights-0.rdb_trunk.layer-6._callable_losses\n",
            "WARNING:tensorflow:Unresolved object in checkpoint: (root).layer_with_weights-0.rdb_trunk.layer-7._callable_losses\n",
            "WARNING:tensorflow:Unresolved object in checkpoint: (root).layer_with_weights-0.rdb_trunk.layer-8._callable_losses\n",
            "WARNING:tensorflow:Unresolved object in checkpoint: (root).layer_with_weights-0.rdb_trunk.layer-9._callable_losses\n",
            "WARNING:tensorflow:Unresolved object in checkpoint: (root).layer_with_weights-0.rdb_trunk.layer-10._callable_losses\n",
            "WARNING:tensorflow:A checkpoint was restored (e.g. tf.train.Checkpoint.restore or tf.keras.Model.load_weights) but not all checkpointed values were used. See above for specific issues. Use expect_partial() on the load status object, e.g. tf.train.Checkpoint.restore(...).expect_partial(), to silence these warnings, or use assert_consumed() to make the check explicit. See https://www.tensorflow.org/guide/checkpoint#loading_mechanics for details.\n",
            "WARNING:tensorflow:No training configuration found in save file, so the model was *not* compiled. Compile it manually.\n"
          ],
          "name": "stdout"
        }
      ]
    },
    {
      "cell_type": "code",
      "metadata": {
        "id": "4ZWz7AcfRwZw",
        "colab": {
          "base_uri": "https://localhost:8080/"
        },
        "outputId": "8687cb24-4799-49ff-af11-28be0f4bf283"
      },
      "source": [
        "import os\n",
        "from flask import Flask, render_template, url_for, request, redirect, abort, send_from_directory\n",
        "from flask_ngrok import run_with_ngrok\n",
        "import time\n",
        "\n",
        "SAVE_DIR = r\"/content/static/OUTPUTS\"\n",
        "# upload_dir =r \" \"\n",
        "\n",
        "!mkdir -p {SAVE_DIR}\n",
        "\n",
        "app = Flask(__name__)\n",
        "app.config['UPLOAD_EXTENSIONS'] = ['.jpeg', '.png', '.jpg']\n",
        "app.config['UPLOAD_PATH'] = r'/content/static/uploads'\n",
        "app.config['OUTPUT_PATH'] = r\"/content/static/OUTPUTS\"\n",
        "\n",
        "\n",
        "@app.route('/')\n",
        "def index() :\n",
        "    return render_template('index.html')\n",
        "\n",
        "@app.route('/upload-image/<pathname>')\n",
        "def uplaod_image(pathname) :\n",
        "    path = request.path\n",
        "    module_name = path.split('/')[-1]\n",
        "    return render_template('upload.html', pathname=module_name)\n",
        "\n",
        "@app.route('/upload-image/<pathname>', methods=['POST'])\n",
        "def upload_files(pathname):\n",
        "    \n",
        "    path = request.path\n",
        "    module_name = path.split('/')[-1]\n",
        "    uploaded_file = request.files['file']\n",
        "    file_name = uploaded_file.filename\n",
        "    file_path = os.path.join(r\"/content/static/uploads\", file_name)\n",
        "    # output_file = request.files['file']\n",
        "\n",
        "    \n",
        "    if file_name != '':\n",
        "        file_ext = os.path.splitext(file_name)[1]\n",
        "        if file_ext not in app.config['UPLOAD_EXTENSIONS'] :\n",
        "            abort(400)\n",
        "\n",
        "        uploaded_file.save(os.path.join(app.config['UPLOAD_PATH'], file_name))\n",
        "        # output_file.save(os.path.join(app.config['OUTPUT_PATH'], filename))\n",
        "\n",
        "        # return filename\n",
        "    \n",
        "    print(module_name, file_path)\n",
        "    if module_name == \"super-resolution\":\n",
        "        test = os.path.exists(file_path)\n",
        "        if test:\n",
        "            print(file_name, file_path)\n",
        "            processed_image_path = super_resolution_module(file_name, file_path, app.config['UPLOAD_PATH'])\n",
        "        \n",
        "    # elif module_name == \"colorization\":\n",
        "    #     pass\n",
        "    \n",
        "    # elif module_name == \"dehaze\":\n",
        "    #     pass\n",
        "    \n",
        "    # elif module_name == \"inpaint\":\n",
        "    #     pass\n",
        "    return redirect(url_for('uploaded_file', pathname=pathname, filename=file_name))\n",
        "\n",
        "@app.route('/uploads/<filename>')\n",
        "def send_file(filename):\n",
        "    # print(\"SEND FILE\")\n",
        "    return send_from_directory(app.config['UPLOAD_PATH'], filename)\n",
        "\n",
        "@app.route('/uploads/<filename>')\n",
        "def send_output_file(filename):\n",
        "    # while not os.path.join(app.config['OUTPUT_PATH'], filename):\n",
        "    #     time.sleep(2)\n",
        "    print(\"Found Rendering\")\n",
        "    return send_from_directory(r\"/content/static/OUTPUTS\", filename)\n",
        "\n",
        "\n",
        "@app.route('/upload-image/<pathname>/<filename>')\n",
        "def uploaded_file(pathname,filename):\n",
        "    # filename = 'http://127.0.0.1:5000/uploads/' + filename\n",
        "    return render_template('upload.html',pathname=pathname,filename=filename)\n",
        "\n",
        "if __name__ == \"__main__\" :\n",
        "    run_with_ngrok(app)\n",
        "    app.run()"
      ],
      "execution_count": 29,
      "outputs": [
        {
          "output_type": "stream",
          "text": [
            " * Serving Flask app \"__main__\" (lazy loading)\n",
            " * Environment: production\n",
            "\u001b[31m   WARNING: This is a development server. Do not use it in a production deployment.\u001b[0m\n",
            "\u001b[2m   Use a production WSGI server instead.\u001b[0m\n",
            " * Debug mode: off\n",
            " * Running on http://f695be91eef3.ngrok.io\n",
            " * Traffic stats available on http://127.0.0.1:4040\n"
          ],
          "name": "stdout"
        },
        {
          "output_type": "stream",
          "text": [
            "127.0.0.1 - - [14/Apr/2021 19:02:46] \"\u001b[37mGET / HTTP/1.1\u001b[0m\" 200 -\n",
            "127.0.0.1 - - [14/Apr/2021 19:02:46] \"\u001b[37mGET /static/css/main.css HTTP/1.1\u001b[0m\" 200 -\n",
            "127.0.0.1 - - [14/Apr/2021 19:02:47] \"\u001b[37mGET /static/images/sr.png HTTP/1.1\u001b[0m\" 200 -\n",
            "127.0.0.1 - - [14/Apr/2021 19:02:47] \"\u001b[37mGET /static/images/inpaint.png HTTP/1.1\u001b[0m\" 200 -\n",
            "127.0.0.1 - - [14/Apr/2021 19:02:47] \"\u001b[37mGET /static/images/color.jpeg HTTP/1.1\u001b[0m\" 200 -\n",
            "127.0.0.1 - - [14/Apr/2021 19:02:47] \"\u001b[37mGET /static/images/sr-output.png HTTP/1.1\u001b[0m\" 200 -\n",
            "127.0.0.1 - - [14/Apr/2021 19:02:47] \"\u001b[37mGET /static/images/dehaze.jpeg HTTP/1.1\u001b[0m\" 200 -\n",
            "127.0.0.1 - - [14/Apr/2021 19:02:47] \"\u001b[37mGET /static/images/color-output.png HTTP/1.1\u001b[0m\" 200 -\n",
            "127.0.0.1 - - [14/Apr/2021 19:02:47] \"\u001b[37mGET /static/images/In-paint_1.png HTTP/1.1\u001b[0m\" 200 -\n",
            "127.0.0.1 - - [14/Apr/2021 19:02:47] \"\u001b[37mGET /static/images/haze-output.png HTTP/1.1\u001b[0m\" 200 -\n",
            "127.0.0.1 - - [14/Apr/2021 19:02:49] \"\u001b[33mGET /favicon.ico HTTP/1.1\u001b[0m\" 404 -\n",
            "127.0.0.1 - - [14/Apr/2021 19:02:50] \"\u001b[37mGET /upload-image/super-resolution HTTP/1.1\u001b[0m\" 200 -\n",
            "127.0.0.1 - - [14/Apr/2021 19:02:50] \"\u001b[37mGET /static/js/script.js HTTP/1.1\u001b[0m\" 200 -\n"
          ],
          "name": "stderr"
        },
        {
          "output_type": "stream",
          "text": [
            "super-resolution /content/static/uploads/0284.png\n",
            "0284.png /content/static/uploads/0284.png\n"
          ],
          "name": "stdout"
        },
        {
          "output_type": "stream",
          "text": [
            "127.0.0.1 - - [14/Apr/2021 19:03:02] \"\u001b[32mPOST /upload-image/super-resolution HTTP/1.1\u001b[0m\" 302 -\n",
            "127.0.0.1 - - [14/Apr/2021 19:03:02] \"\u001b[37mGET /upload-image/super-resolution/0284.png HTTP/1.1\u001b[0m\" 200 -\n",
            "127.0.0.1 - - [14/Apr/2021 19:03:03] \"\u001b[37mGET /uploads/0284.png HTTP/1.1\u001b[0m\" 200 -\n",
            "127.0.0.1 - - [14/Apr/2021 19:03:03] \"\u001b[37mGET /static/uploads/out_0284.png HTTP/1.1\u001b[0m\" 200 -\n"
          ],
          "name": "stderr"
        },
        {
          "output_type": "stream",
          "text": [
            "SEND FILE\n"
          ],
          "name": "stdout"
        }
      ]
    },
    {
      "cell_type": "code",
      "metadata": {
        "id": "FKwIf4GEhyry"
      },
      "source": [
        ""
      ],
      "execution_count": null,
      "outputs": []
    }
  ]
}